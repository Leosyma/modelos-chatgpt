{
 "cells": [
  {
   "cell_type": "markdown",
   "id": "8653b136",
   "metadata": {},
   "source": [
    "### Resposta que gostaríamos do modelo"
   ]
  },
  {
   "cell_type": "markdown",
   "id": "2e5e5758",
   "metadata": {},
   "source": [
    "```\n",
    "{\n",
    "  \"resposta\": \"Equação quadrática é uma equação polinomial de segundo grau, com a forma ax² + bx + c = 0.\",\n",
    "  \"categoria\": \"Matemática\",\n",
    "  \"fonte\": \"Bot\"\n",
    "}\n",
    "```"
   ]
  },
  {
   "cell_type": "markdown",
   "id": "36f7a355",
   "metadata": {},
   "source": [
    "### Resposta que o modelo está nos dando"
   ]
  },
  {
   "cell_type": "markdown",
   "id": "552a86ed",
   "metadata": {},
   "source": [
    "Uma equação quadrática é uma equação polinomial de segundo grau, ou seja, uma equação na forma ax^2 + bx + c = 0, onde a, b e c são constantes e a é diferente de zero. A incógnita da equação é x e o objetivo é encontrar os valores de x que satisfazem a equação. As equações quadráticas podem ter duas soluções reais, uma solução real ou duas soluções complexas."
   ]
  },
  {
   "cell_type": "markdown",
   "id": "19ccb33b",
   "metadata": {},
   "source": [
    "### Prompt para que ele nos dê a mensagem formatada como queremos"
   ]
  },
  {
   "cell_type": "markdown",
   "id": "ad334c91",
   "metadata": {},
   "source": [
    "system_mes = '''\n",
    "Responda as perguntas em um parágrafo de até 20 palavras. Categorize as respostas no seguintes conteúdos: física, matemática, língua portuguesa ou outros.\n",
    "Retorne a resposta em um formato json, com as keys: \n",
    "fonte: valor deve ser sempre AsimoBot\n",
    "resposta: a resposta para a pergunta\n",
    "categoria: a categoria da pergunta\n",
    "'''"
   ]
  },
  {
   "cell_type": "markdown",
   "id": "917d2361",
   "metadata": {},
   "source": [
    "### Formatação das mensagens para realizarmos o Fine Tuning"
   ]
  },
  {
   "cell_type": "markdown",
   "id": "e0030aaf",
   "metadata": {},
   "source": [
    "```\n",
    "{\"messages\": \n",
    "    [\n",
    "        {\"role\": \"user\", \"content\": \"O que é uma equação quadrática\"},\n",
    "        {\"role\": \"assistant\", \"content\": \n",
    "            {\n",
    "                \"resposta\": \"Equação quadrática é uma equação polinomial de segundo grau, com a forma ax² + bx + c = 0.\",\n",
    "                \"categoria\": \"Matemática\",\n",
    "                \"fonte\": \"Bot\"\n",
    "            }},\n",
    "    ]\n",
    "}\n",
    "\n",
    "```"
   ]
  },
  {
   "cell_type": "markdown",
   "id": "e3f3e9f4",
   "metadata": {},
   "source": [
    "### Criando o arquivo JSONL"
   ]
  },
  {
   "cell_type": "code",
   "execution_count": 4,
   "id": "59dc6dae",
   "metadata": {},
   "outputs": [],
   "source": [
    "# Abre arquivo json com as respostas que gostaríamos de ter para treinar o modelo\n",
    "import json\n",
    "\n",
    "with open('arquivos/chatbot_respostas.json', encoding=\"utf8\") as f:\n",
    "    json_respostas = json.load(f)"
   ]
  },
  {
   "cell_type": "code",
   "execution_count": 9,
   "id": "f9a0d9c0",
   "metadata": {},
   "outputs": [],
   "source": [
    "# Formata o arquivo na estrutura correta para o modelo do ChatGPT\n",
    "with open('arquivos/chatbot_respostas.jsonl', 'w', encoding=\"utf8\") as f:\n",
    "    for entrada in json_respostas:\n",
    "        resposta = {\n",
    "            'resposta': entrada['resposta'],\n",
    "            'categoria': entrada['categoria'],\n",
    "            'fonte': 'Bot'\n",
    "        }\n",
    "        entrada_jsonl = {\n",
    "            'messages': [\n",
    "                {'role': 'user', 'content': entrada['pergunta']},\n",
    "                {'role': 'assistant', 'content': json.dumps(resposta, ensure_ascii=False, indent=2)}\n",
    "            ]\n",
    "        }\n",
    "        json.dump(entrada_jsonl, f, ensure_ascii=False)\n",
    "        f.write('\\n')"
   ]
  },
  {
   "cell_type": "code",
   "execution_count": 10,
   "id": "41893f6c",
   "metadata": {},
   "outputs": [],
   "source": [
    "# Carrega e se conecta com a API\n",
    "import openai\n",
    "from dotenv import load_dotenv, find_dotenv\n",
    "\n",
    "_ = load_dotenv(find_dotenv())\n",
    "\n",
    "client = openai.Client()"
   ]
  },
  {
   "cell_type": "code",
   "execution_count": null,
   "id": "cbd647ee",
   "metadata": {},
   "outputs": [],
   "source": [
    "# Treina o modelo usando fine tuning no formato das respostas desejado\n",
    "file = client.files.create(\n",
    "    file=open('arquivos/chatbot_respostas.jsonl',  'rb'),\n",
    "    purpose='fine-tune'\n",
    ")\n",
    "\n",
    "client.fine_tuning.jobs.create(\n",
    "    training_file=file.id,\n",
    "    model=\"gpt-3.5-turbo\"\n",
    ")"
   ]
  },
  {
   "cell_type": "code",
   "execution_count": null,
   "id": "d968541d",
   "metadata": {},
   "outputs": [],
   "source": [
    "# Lista os modelos treinados\n",
    "client.fine_tuning.jobs.list()"
   ]
  },
  {
   "cell_type": "markdown",
   "id": "22a227b6",
   "metadata": {},
   "source": [
    "### Utilizando o Modelo"
   ]
  },
  {
   "cell_type": "code",
   "execution_count": null,
   "id": "6edb08f7",
   "metadata": {},
   "outputs": [],
   "source": [
    "# Resposta do modelo padrão\n",
    "mensagens = [{'role': 'user', 'content': 'O que é uma equação quadrática?'}]\n",
    "\n",
    "resposta = client.chat.completions.create(\n",
    "    messages=mensagens,\n",
    "    model=\"gpt-3.5-turbo\",\n",
    "    max_tokens=1000,\n",
    "    temperature=0\n",
    ")\n",
    "\n",
    "print(resposta.choices[0].message.content)"
   ]
  },
  {
   "cell_type": "code",
   "execution_count": null,
   "id": "552f5b5c",
   "metadata": {},
   "outputs": [],
   "source": [
    "# Usando engenharia de prompt para ter a resposta desejada usando o modelo padrão\n",
    "system_mes = '''\n",
    "Responda as perguntas em um parágrafo de até 20 palavras. Categorize as respostas no seguintes conteúdos: física, matemática, língua portuguesa ou outros.\n",
    "Retorne a resposta em um formato json, com as keys: \n",
    "fonte: valor deve ser sempre Bot\n",
    "resposta: a resposta para a pergunta\n",
    "categoria: a categoria da pergunta\n",
    "'''\n",
    "\n",
    "mensagens = [\n",
    "    {'role': 'system', 'content': system_mes},\n",
    "    {'role': 'user', 'content': 'O que é uma equação quadrática?'}\n",
    "    ]\n",
    "\n",
    "resposta = client.chat.completions.create(\n",
    "    messages=mensagens,\n",
    "    model=\"gpt-3.5-turbo\",\n",
    "    max_tokens=1000,\n",
    "    temperature=0\n",
    ")\n",
    "\n",
    "print(resposta.choices[0].message.content)"
   ]
  },
  {
   "cell_type": "code",
   "execution_count": null,
   "id": "cd03f73c",
   "metadata": {},
   "outputs": [],
   "source": [
    "# Quanto foi usado a API\n",
    "resposta.usage"
   ]
  },
  {
   "cell_type": "code",
   "execution_count": null,
   "id": "8680a89d",
   "metadata": {},
   "outputs": [],
   "source": [
    "# Resposta com o modelo treinado usando fine tuning\n",
    "mensagens = [\n",
    "    {'role': 'user', 'content': 'O que é uma equação quadrática?'}\n",
    "    ]\n",
    "\n",
    "resposta = client.chat.completions.create(\n",
    "    messages=mensagens,\n",
    "    model=\"ft:gpt-3.5-turbo-0125:personal::971R86c5\",\n",
    "    max_tokens=1000,\n",
    "    temperature=0\n",
    ")\n",
    "\n",
    "print(resposta.choices[0].message.content)"
   ]
  },
  {
   "cell_type": "code",
   "execution_count": null,
   "id": "bba5338f",
   "metadata": {},
   "outputs": [],
   "source": [
    "# Quanto foi usado a API\n",
    "resposta.usage"
   ]
  },
  {
   "cell_type": "code",
   "execution_count": null,
   "id": "88af94ee",
   "metadata": {},
   "outputs": [],
   "source": []
  }
 ],
 "metadata": {
  "kernelspec": {
   "display_name": ".venv",
   "language": "python",
   "name": "python3"
  },
  "language_info": {
   "codemirror_mode": {
    "name": "ipython",
    "version": 3
   },
   "file_extension": ".py",
   "mimetype": "text/x-python",
   "name": "python",
   "nbconvert_exporter": "python",
   "pygments_lexer": "ipython3",
   "version": "3.11.5"
  }
 },
 "nbformat": 4,
 "nbformat_minor": 5
}
